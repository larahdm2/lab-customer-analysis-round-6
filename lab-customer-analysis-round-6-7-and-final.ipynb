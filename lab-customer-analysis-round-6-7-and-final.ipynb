{
 "cells": [
  {
   "cell_type": "code",
   "execution_count": null,
   "id": "23b12f95",
   "metadata": {},
   "outputs": [],
   "source": [
    "import pandas as pd\n",
    "import numpy as np\n",
    "import matplotlib.pyplot as plt\n",
    "import seaborn as sns\n",
    "from sklearn import linear_model\n",
    "from sklearn.metrics import mean_squared_error, r2_score\n",
    "from sklearn.preprocessing import MinMaxScaler"
   ]
  },
  {
   "cell_type": "code",
   "execution_count": null,
   "id": "3ffbc4bf",
   "metadata": {},
   "outputs": [],
   "source": [
    "customer = pd.read_csv('marketing_customer_analysis.csv')"
   ]
  },
  {
   "cell_type": "markdown",
   "id": "955677d9",
   "metadata": {},
   "source": [
    "# Lab | Customer Analysis Round 4"
   ]
  },
  {
   "cell_type": "markdown",
   "id": "6c5a0714",
   "metadata": {},
   "source": [
    "##### 1. Check the data types of the columns. Get the numeric data into dataframe called numerical and categorical columns in a dataframe called categoricals. (You can use np.number and np.object to select the numerical data types and categorical data types respectively)"
   ]
  },
  {
   "cell_type": "code",
   "execution_count": null,
   "id": "7b0701bb",
   "metadata": {},
   "outputs": [],
   "source": [
    "customer.dtypes"
   ]
  },
  {
   "cell_type": "code",
   "execution_count": null,
   "id": "14ab0554",
   "metadata": {},
   "outputs": [],
   "source": [
    "cus_num = customer.select_dtypes(include = np.number)\n"
   ]
  },
  {
   "cell_type": "code",
   "execution_count": null,
   "id": "76c22e9a",
   "metadata": {},
   "outputs": [],
   "source": [
    "cus_cat = customer.select_dtypes(include = np.object)\n"
   ]
  },
  {
   "cell_type": "markdown",
   "id": "c542cfec",
   "metadata": {},
   "source": [
    "##### 2. Now we will try to check the normality of the numerical variables visually\n",
    "##### 2. 1 Use seaborn library to construct distribution plots for the numerical variables"
   ]
  },
  {
   "cell_type": "code",
   "execution_count": null,
   "id": "514b603d",
   "metadata": {
    "scrolled": true
   },
   "outputs": [],
   "source": [
    "# Check 1\n",
    "\n",
    "for col in cus_num:\n",
    "    sns.displot(cus_num[col])"
   ]
  },
  {
   "cell_type": "markdown",
   "id": "515a2abb",
   "metadata": {},
   "source": [
    "##### 2.2 Use Matplotlib to construct histograms"
   ]
  },
  {
   "cell_type": "code",
   "execution_count": null,
   "id": "8f8e8497",
   "metadata": {},
   "outputs": [],
   "source": [
    "for col in cus_num:\n",
    "    \n",
    "    plt.figure(figsize=(8, 5))  \n",
    "    \n",
    "    plt.hist(cus_num[col], bins=20)\n",
    "    \n",
    "    plt.title(f'Histogram of {col}')\n",
    "    plt.xlabel(col)\n",
    "    plt.ylabel('Frequency')\n",
    "    plt.show()"
   ]
  },
  {
   "cell_type": "markdown",
   "id": "118e56ed",
   "metadata": {},
   "source": [
    "##### 2.3 Do the distributions for different numerical variables look like a normal distribution"
   ]
  },
  {
   "cell_type": "code",
   "execution_count": null,
   "id": "b1d25035",
   "metadata": {},
   "outputs": [],
   "source": [
    "cus_num"
   ]
  },
  {
   "cell_type": "code",
   "execution_count": null,
   "id": "21751472",
   "metadata": {
    "scrolled": true
   },
   "outputs": [],
   "source": [
    "def log_transfom_clean(x):\n",
    "    x = np.log10(x)\n",
    "    if np.isfinite(x):\n",
    "        return x\n",
    "    else:\n",
    "        return 0"
   ]
  },
  {
   "cell_type": "code",
   "execution_count": null,
   "id": "efd61fe3",
   "metadata": {},
   "outputs": [],
   "source": [
    "for col in cus_num:\n",
    "    plt.figure(figsize=(7, 4))\n",
    "    plt.hist(cus_num[col].apply(log_transfom_clean), bins=30)   \n",
    "    plt.title(f'Histogram of {col}')\n",
    "    plt.xlabel(col)\n",
    "    plt.ylabel('Frequency')\n",
    "    plt.show()"
   ]
  },
  {
   "cell_type": "code",
   "execution_count": null,
   "id": "6c636bcb",
   "metadata": {},
   "outputs": [],
   "source": [
    "def log_transform_clean2(x):\n",
    "    x = np.log10(x)\n",
    "    if np.isfinite(x):\n",
    "        return x\n",
    "    else:\n",
    "        return np.NAN"
   ]
  },
  {
   "cell_type": "code",
   "execution_count": null,
   "id": "98c98d2a",
   "metadata": {},
   "outputs": [],
   "source": [
    "for col in cus_num:\n",
    "    \n",
    "    cus_num[col] = list(map(log_transform_clean2, cus_num[col]))\n",
    "    cus_num[col] = cus_num[col].fillna(np.mean(cus_num[col]))\n",
    "    \n",
    "    plt.figure(figsize=(7, 4))\n",
    "    plt.hist(cus_num[col].apply(log_transfom_clean), bins=30)   \n",
    "    plt.title(f'Histogram of {col}')\n",
    "    plt.xlabel(col)\n",
    "    plt.ylabel('Frequency')\n",
    "    plt.show()\n",
    "\n",
    "cus_num"
   ]
  },
  {
   "cell_type": "markdown",
   "id": "0a097fec",
   "metadata": {},
   "source": [
    "I don´t think they could look as normal distributions using the log function. I could cut the values of the total claim amount at 600 but I wouldn´t do that because it provides lot of information. Here is the demonstration:"
   ]
  },
  {
   "cell_type": "code",
   "execution_count": null,
   "id": "6e682c4e",
   "metadata": {},
   "outputs": [],
   "source": [
    "sns.boxplot(cus_num['Total Claim Amount'])\n",
    "plt.show()"
   ]
  },
  {
   "cell_type": "code",
   "execution_count": null,
   "id": "24da8c05",
   "metadata": {},
   "outputs": [],
   "source": [
    "iqr = np.percentile(cus_num['Total Claim Amount'],75) - np.percentile(cus_num['Total Claim Amount'],25)\n",
    "\n",
    "upper_limit = np.percentile(cus_num['Total Claim Amount'],75) + 1.5*iqr\n",
    "lower_limit = np.percentile(cus_num['Total Claim Amount'],25) - 1.5*iqr\n",
    "\n",
    "print(upper_limit)\n",
    "print(lower_limit)"
   ]
  },
  {
   "cell_type": "code",
   "execution_count": null,
   "id": "9c833dd9",
   "metadata": {},
   "outputs": [],
   "source": [
    "cus_claim = cus_num[(cus_num['Total Claim Amount']>lower_limit)&(cus_num['Total Claim Amount']<2500)]\n",
    "sns.displot(cus_claim['Total Claim Amount'])\n",
    "plt.show()"
   ]
  },
  {
   "cell_type": "code",
   "execution_count": null,
   "id": "e5fec719",
   "metadata": {},
   "outputs": [],
   "source": [
    "cus_claim['Total Claim Amount'] = list(map(log_transform_clean2, cus_claim['Total Claim Amount']))\n",
    "cus_claim['Total Claim Amount'] = cus_claim['Total Claim Amount'].fillna(np.mean(cus_claim['Total Claim Amount']))\n",
    "sns.displot(cus_claim['Total Claim Amount'])\n",
    "plt.show()"
   ]
  },
  {
   "cell_type": "markdown",
   "id": "7acc68e8",
   "metadata": {},
   "source": [
    "##### 3. For the numerical variables, check the multicollinearity between the features. Please note that we will use the column total_claim_amount later as the target variable.\n"
   ]
  },
  {
   "cell_type": "code",
   "execution_count": null,
   "id": "6132c663",
   "metadata": {},
   "outputs": [],
   "source": [
    "# Reset data frame\n",
    "\n",
    "cus_num = customer.select_dtypes(include = np.number)"
   ]
  },
  {
   "cell_type": "code",
   "execution_count": null,
   "id": "a5d2c0cd",
   "metadata": {},
   "outputs": [],
   "source": [
    "# Multicollinearity is a statistical phenomenon that occurs when two or more independent variables in a regression model are highly correlated with each other.\n",
    "\n",
    "# We can create a matrix\n",
    "correlation_matrix = cus_num.corr()\n",
    "correlation_matrix\n"
   ]
  },
  {
   "cell_type": "code",
   "execution_count": null,
   "id": "f12d6564",
   "metadata": {},
   "outputs": [],
   "source": [
    "# Or a heatmap\n",
    "\n",
    "plt.figure(figsize=(8, 6))\n",
    "\n",
    "sns.heatmap(correlation_matrix, annot=True)\n",
    "plt.title('Correlation Matrix Heatmap')\n",
    "plt.show()"
   ]
  },
  {
   "cell_type": "markdown",
   "id": "d8e09ab3",
   "metadata": {},
   "source": [
    "The values are not very correlated in general.\n",
    "\n",
    "Looking at the Total Claim Amount, we can say that is quite correlated to the Monthly Premium Auto. The Customer Lifetime Value provides some information with a coefficient of correlation of 0.23.\n",
    "\n",
    "Also, the income coefficient tells us about a negative correlation, which means that the Total Claim Amount gets higher when the Income amount goes lower."
   ]
  },
  {
   "cell_type": "markdown",
   "id": "b46cab83",
   "metadata": {},
   "source": [
    "##### 4. Drop one of the two features that show a high correlation between them (greater than 0.9). Write code for both the correlation matrix and for seaborn heatmap. If there is no pair of features that have a high correlation, then do not drop any features"
   ]
  },
  {
   "cell_type": "markdown",
   "id": "7eed3283",
   "metadata": {},
   "source": [
    "I´m going to drop the values with very little correlation."
   ]
  },
  {
   "cell_type": "code",
   "execution_count": null,
   "id": "b224d300",
   "metadata": {},
   "outputs": [],
   "source": [
    "cus_corr = cus_num.drop(['Months Since Last Claim', 'Months Since Policy Inception', 'Number of Open Complaints', 'Number of Policies'], axis=1)\n",
    "cus_corr"
   ]
  },
  {
   "cell_type": "code",
   "execution_count": null,
   "id": "5c70d26f",
   "metadata": {},
   "outputs": [],
   "source": [
    "correlation_matrix2 = cus_corr.corr()\n",
    "correlation_matrix2"
   ]
  },
  {
   "cell_type": "code",
   "execution_count": null,
   "id": "22813704",
   "metadata": {},
   "outputs": [],
   "source": [
    "plt.figure(figsize=(4, 3))\n",
    "sns.heatmap(correlation_matrix2, annot=True)\n",
    "plt.title('Correlation Matrix Heatmap 2')\n",
    "plt.show()"
   ]
  },
  {
   "cell_type": "markdown",
   "id": "d946a4f8",
   "metadata": {},
   "source": [
    "# Lab | Customer Analysis Round 5"
   ]
  },
  {
   "cell_type": "markdown",
   "id": "b20b89b2",
   "metadata": {},
   "source": [
    "### Processing Data\n",
    "\n",
    "##### 1. Further processing"
   ]
  },
  {
   "cell_type": "markdown",
   "id": "309d6bfd",
   "metadata": {},
   "source": [
    "I will compare the target value against the most correlated one, the Monthly Premium Auto."
   ]
  },
  {
   "cell_type": "code",
   "execution_count": null,
   "id": "48a222f1",
   "metadata": {},
   "outputs": [],
   "source": [
    "cus_num = customer.select_dtypes(include = np.number)\n",
    "\n",
    "y = cus_num['Total Claim Amount']\n",
    "X = cus_num[['Monthly Premium Auto']]\n",
    "\n",
    "lm = linear_model.LinearRegression()\n",
    "lm.fit(X,y)\n",
    "\n",
    "regression_line = lm.intercept_ + lm.coef_[0]*cus_num['Monthly Premium Auto']\n",
    "\n",
    "plt.plot(cus_num['Monthly Premium Auto'], regression_line, c = 'orange')\n",
    "sns.scatterplot(x='Monthly Premium Auto',y='Total Claim Amount',data=cus_num)\n",
    "plt.show()"
   ]
  },
  {
   "cell_type": "markdown",
   "id": "97949697",
   "metadata": {},
   "source": [
    "I´ll check the R2-score"
   ]
  },
  {
   "cell_type": "code",
   "execution_count": null,
   "id": "ed30ef4f",
   "metadata": {},
   "outputs": [],
   "source": [
    "print(\"R2-score is \", lm.score(X,y))\n",
    "print(\"mean squared error (MSE) is \", mean_squared_error(lm.predict(X),y))"
   ]
  },
  {
   "cell_type": "markdown",
   "id": "53ffc34d",
   "metadata": {},
   "source": [
    "The R2-socre indicates the model does not explain very well the variance in the target variable.\n",
    "Also, we can see by the MSE that the model's predictions are not very close to the true values."
   ]
  },
  {
   "cell_type": "markdown",
   "id": "6a6ba56d",
   "metadata": {},
   "source": [
    "##### 2. X-y split."
   ]
  },
  {
   "cell_type": "markdown",
   "id": "e83e1dd1",
   "metadata": {},
   "source": [
    "Already done above"
   ]
  },
  {
   "cell_type": "markdown",
   "id": "4d9b04bc",
   "metadata": {},
   "source": [
    "##### 3. Normalize (numerical)."
   ]
  },
  {
   "cell_type": "code",
   "execution_count": null,
   "id": "41e9d16c",
   "metadata": {},
   "outputs": [],
   "source": [
    "y = cus_num['Total Claim Amount']\n",
    "X = cus_num.drop(['Total Claim Amount'], axis=1)\n",
    "\n",
    "X_num = X.select_dtypes(include = np.number)\n",
    "X_cat = X.select_dtypes(include = object)\n",
    "\n",
    "transformer = MinMaxScaler().fit(X_num)\n",
    "x_normalized = transformer.transform(X_num)\n",
    "print(x_normalized.shape)\n",
    "x_normalized\n",
    "\n",
    "cus_nor = pd.DataFrame(x_normalized, columns=X_num.columns)"
   ]
  },
  {
   "cell_type": "markdown",
   "id": "c1ed183a",
   "metadata": {},
   "source": [
    "# Lab | Customer Analysis Round 6"
   ]
  },
  {
   "cell_type": "markdown",
   "id": "3b62c858",
   "metadata": {},
   "source": [
    "### Befor starting - Cells I have to run from previous labs"
   ]
  },
  {
   "cell_type": "code",
   "execution_count": 1,
   "id": "29dc7253",
   "metadata": {},
   "outputs": [],
   "source": [
    "import pandas as pd\n",
    "import numpy as np\n",
    "import matplotlib.pyplot as plt\n",
    "import seaborn as sns\n",
    "from sklearn import linear_model\n",
    "from sklearn.metrics import mean_squared_error, r2_score\n",
    "from sklearn.preprocessing import MinMaxScaler\n",
    "from sklearn.preprocessing import OneHotEncoder\n",
    "from sklearn.preprocessing import LabelEncoder\n",
    "from sklearn.model_selection import train_test_split\n",
    "from sklearn.metrics import mean_absolute_error\n",
    "from sklearn.preprocessing import StandardScaler"
   ]
  },
  {
   "cell_type": "code",
   "execution_count": null,
   "id": "cbe5bdca",
   "metadata": {},
   "outputs": [],
   "source": [
    "customer = pd.read_csv('marketing_customer_analysis.csv')\n",
    "cus_num = customer.select_dtypes(include = np.number)\n",
    "cus_cat = customer.select_dtypes(include = np.object)\n",
    "y = cus_num['Total Claim Amount']\n",
    "X = cus_num.drop(['Total Claim Amount'], axis=1)\n",
    "X_num = X.select_dtypes(include = np.number)\n",
    "transformer = MinMaxScaler().fit(X_num)\n",
    "x_normalized = transformer.transform(X_num)\n",
    "cus_nor = pd.DataFrame(x_normalized, columns=X_num.columns)\n",
    "cus_nor.describe()"
   ]
  },
  {
   "cell_type": "markdown",
   "id": "e467c1e1",
   "metadata": {},
   "source": [
    "### Processing Data - Deciding the Method"
   ]
  },
  {
   "cell_type": "code",
   "execution_count": null,
   "id": "b0ac2abd",
   "metadata": {},
   "outputs": [],
   "source": [
    "cus_cat.head()"
   ]
  },
  {
   "cell_type": "code",
   "execution_count": null,
   "id": "edbc1e27",
   "metadata": {},
   "outputs": [],
   "source": [
    "for col in cus_cat:\n",
    "    print(cus_cat[col].value_counts())"
   ]
  },
  {
   "cell_type": "markdown",
   "id": "41e1792b",
   "metadata": {},
   "source": [
    "### Processing Data - OneHot Encoding"
   ]
  },
  {
   "cell_type": "code",
   "execution_count": null,
   "id": "1c0cdff1",
   "metadata": {},
   "outputs": [],
   "source": [
    "# cus_one = cus_cat.drop(['Customer', 'State', 'Effective To Date', 'EmploymentStatus', 'Policy', 'Renew Offer Type', 'Sales Channel', 'Vehicle Class'], axis=1)\n",
    "cus_one = cus_cat.drop(['Customer', 'Effective To Date'], axis=1)\n",
    "encoder = OneHotEncoder(drop='first').fit(cus_one)\n",
    "encoded = encoder.transform(cus_one).toarray()\n",
    "\n",
    "# for col in cus_one:\n",
    "    # onehot_encoded = pd.DataFrame(encoded,columns=[cus_one[col].unique()])\n",
    "\n",
    "onehot_encoded = pd.DataFrame(encoded, columns=encoder.get_feature_names_out())\n",
    "# onehot_encoded = pd.DataFrame(encoded,columns=['Female', 'Male','U'])\n",
    "onehot_encoded.head()\n",
    "\n"
   ]
  },
  {
   "cell_type": "markdown",
   "id": "58fa865a",
   "metadata": {},
   "source": [
    "### Processing Data - Columns excluded in the model\n",
    "\n",
    "I´m going to exclude the Customer identification and the effective dat as I don´t consider them valuable information for the model."
   ]
  },
  {
   "cell_type": "markdown",
   "id": "d3db9725",
   "metadata": {},
   "source": [
    "### Processing Data - Concatenate"
   ]
  },
  {
   "cell_type": "code",
   "execution_count": null,
   "id": "531b9482",
   "metadata": {},
   "outputs": [],
   "source": [
    "customer2 = pd.concat([cus_nor, onehot_encoded], axis=1)\n",
    "customer2"
   ]
  },
  {
   "cell_type": "markdown",
   "id": "2bb25eec",
   "metadata": {},
   "source": [
    "### Linear Regression - Train-test split"
   ]
  },
  {
   "cell_type": "code",
   "execution_count": null,
   "id": "1c88b6de",
   "metadata": {},
   "outputs": [],
   "source": [
    "y = customer['Total Claim Amount']\n",
    "X = customer2\n",
    "X_train, X_test, y_train, y_test = train_test_split(X, y, test_size=0.1)"
   ]
  },
  {
   "cell_type": "markdown",
   "id": "bf33c518",
   "metadata": {},
   "source": [
    "### Linear Regression - Apply linear regression"
   ]
  },
  {
   "cell_type": "code",
   "execution_count": null,
   "id": "6470474c",
   "metadata": {},
   "outputs": [],
   "source": [
    "lm = linear_model.LinearRegression()\n",
    "lm.fit(X_train,y_train)\n",
    "predictions = lm.predict(X_train)\n",
    "r2_score(y_train, predictions)"
   ]
  },
  {
   "cell_type": "markdown",
   "id": "0081ac3f",
   "metadata": {},
   "source": [
    "### Model Validation - R2"
   ]
  },
  {
   "cell_type": "code",
   "execution_count": null,
   "id": "10eb065e",
   "metadata": {},
   "outputs": [],
   "source": [
    "predictions_test = lm.predict(X_test)\n",
    "r2_score(y_test, predictions_test)"
   ]
  },
  {
   "cell_type": "markdown",
   "id": "89b10e06",
   "metadata": {},
   "source": [
    "### Model Validation - MSE\n"
   ]
  },
  {
   "cell_type": "code",
   "execution_count": null,
   "id": "4c830718",
   "metadata": {},
   "outputs": [],
   "source": [
    "predictions_test = lm.predict(X_test)\n",
    "mse=mean_squared_error(y_test,predictions_test)\n",
    "mse"
   ]
  },
  {
   "cell_type": "markdown",
   "id": "5c040155",
   "metadata": {},
   "source": [
    "### Model Validation - RMSE"
   ]
  },
  {
   "cell_type": "code",
   "execution_count": null,
   "id": "bf1d94dd",
   "metadata": {},
   "outputs": [],
   "source": [
    "rmse = np.sqrt(mean_squared_error(y_test,predictions_test))\n",
    "rmse"
   ]
  },
  {
   "cell_type": "markdown",
   "id": "193246f7",
   "metadata": {},
   "source": [
    "### Model Validation - MAE"
   ]
  },
  {
   "cell_type": "code",
   "execution_count": null,
   "id": "eb5b9ad7",
   "metadata": {},
   "outputs": [],
   "source": [
    "mae = mean_absolute_error(y_test,predictions_test)\n",
    "mae"
   ]
  },
  {
   "cell_type": "markdown",
   "id": "2423f478",
   "metadata": {},
   "source": [
    "# Lab | Customer Analysis Round 7"
   ]
  },
  {
   "cell_type": "markdown",
   "id": "b2f40c51",
   "metadata": {},
   "source": [
    "### Reset variables"
   ]
  },
  {
   "cell_type": "code",
   "execution_count": 8,
   "id": "3cf36989",
   "metadata": {},
   "outputs": [
    {
     "name": "stderr",
     "output_type": "stream",
     "text": [
      "C:\\Users\\PC\\AppData\\Local\\Temp\\ipykernel_5204\\651084425.py:3: DeprecationWarning: `np.object` is a deprecated alias for the builtin `object`. To silence this warning, use `object` by itself. Doing this will not modify any behavior and is safe. \n",
      "Deprecated in NumPy 1.20; for more details and guidance: https://numpy.org/devdocs/release/1.20.0-notes.html#deprecations\n",
      "  cus_cat = customer.select_dtypes(include = np.object)\n"
     ]
    }
   ],
   "source": [
    "customer = pd.read_csv('marketing_customer_analysis.csv')\n",
    "cus_num = customer.select_dtypes(include = np.number)\n",
    "cus_cat = customer.select_dtypes(include = np.object)\n",
    "y = cus_num['Total Claim Amount']\n",
    "X = cus_num.drop(['Total Claim Amount'], axis=1)\n",
    "cus_one = cus_cat.drop(['Customer', 'Effective To Date'], axis=1)\n",
    "encoder = OneHotEncoder(drop='first').fit(cus_one)\n",
    "encoded = encoder.transform(cus_one).toarray()\n",
    "onehot_encoded = pd.DataFrame(encoded, columns=encoder.get_feature_names_out())"
   ]
  },
  {
   "cell_type": "markdown",
   "id": "e71f4b5e",
   "metadata": {},
   "source": [
    "### Model Normalised with StandardScaler - All columns"
   ]
  },
  {
   "cell_type": "code",
   "execution_count": 9,
   "id": "0421b198",
   "metadata": {},
   "outputs": [
    {
     "data": {
      "text/html": [
       "<div>\n",
       "<style scoped>\n",
       "    .dataframe tbody tr th:only-of-type {\n",
       "        vertical-align: middle;\n",
       "    }\n",
       "\n",
       "    .dataframe tbody tr th {\n",
       "        vertical-align: top;\n",
       "    }\n",
       "\n",
       "    .dataframe thead th {\n",
       "        text-align: right;\n",
       "    }\n",
       "</style>\n",
       "<table border=\"1\" class=\"dataframe\">\n",
       "  <thead>\n",
       "    <tr style=\"text-align: right;\">\n",
       "      <th></th>\n",
       "      <th>Customer Lifetime Value</th>\n",
       "      <th>Income</th>\n",
       "      <th>Monthly Premium Auto</th>\n",
       "      <th>Months Since Last Claim</th>\n",
       "      <th>Months Since Policy Inception</th>\n",
       "      <th>Number of Open Complaints</th>\n",
       "      <th>Number of Policies</th>\n",
       "      <th>Total Claim Amount</th>\n",
       "    </tr>\n",
       "  </thead>\n",
       "  <tbody>\n",
       "    <tr>\n",
       "      <th>0</th>\n",
       "      <td>-0.762878</td>\n",
       "      <td>0.612827</td>\n",
       "      <td>-0.703925</td>\n",
       "      <td>1.678099</td>\n",
       "      <td>-1.543287</td>\n",
       "      <td>-0.422250</td>\n",
       "      <td>-0.822648</td>\n",
       "      <td>-0.169640</td>\n",
       "    </tr>\n",
       "    <tr>\n",
       "      <th>1</th>\n",
       "      <td>-0.149245</td>\n",
       "      <td>-1.239617</td>\n",
       "      <td>0.022691</td>\n",
       "      <td>-0.208186</td>\n",
       "      <td>-0.217334</td>\n",
       "      <td>-0.422250</td>\n",
       "      <td>2.106160</td>\n",
       "      <td>2.400737</td>\n",
       "    </tr>\n",
       "    <tr>\n",
       "      <th>2</th>\n",
       "      <td>0.710636</td>\n",
       "      <td>0.365710</td>\n",
       "      <td>0.429596</td>\n",
       "      <td>0.288205</td>\n",
       "      <td>-0.360680</td>\n",
       "      <td>-0.422250</td>\n",
       "      <td>-0.404247</td>\n",
       "      <td>0.455734</td>\n",
       "    </tr>\n",
       "    <tr>\n",
       "      <th>3</th>\n",
       "      <td>-0.052263</td>\n",
       "      <td>-1.239617</td>\n",
       "      <td>0.371467</td>\n",
       "      <td>0.288205</td>\n",
       "      <td>0.606907</td>\n",
       "      <td>-0.422250</td>\n",
       "      <td>1.687759</td>\n",
       "      <td>0.329769</td>\n",
       "    </tr>\n",
       "    <tr>\n",
       "      <th>4</th>\n",
       "      <td>-0.755575</td>\n",
       "      <td>0.203390</td>\n",
       "      <td>-0.587666</td>\n",
       "      <td>-0.307465</td>\n",
       "      <td>-0.145661</td>\n",
       "      <td>-0.422250</td>\n",
       "      <td>-0.822648</td>\n",
       "      <td>-1.018843</td>\n",
       "    </tr>\n",
       "    <tr>\n",
       "      <th>...</th>\n",
       "      <td>...</td>\n",
       "      <td>...</td>\n",
       "      <td>...</td>\n",
       "      <td>...</td>\n",
       "      <td>...</td>\n",
       "      <td>...</td>\n",
       "      <td>...</td>\n",
       "      <td>...</td>\n",
       "    </tr>\n",
       "    <tr>\n",
       "      <th>9129</th>\n",
       "      <td>2.241590</td>\n",
       "      <td>1.128558</td>\n",
       "      <td>-0.587666</td>\n",
       "      <td>0.288205</td>\n",
       "      <td>1.466984</td>\n",
       "      <td>-0.422250</td>\n",
       "      <td>-0.404247</td>\n",
       "      <td>-0.811934</td>\n",
       "    </tr>\n",
       "    <tr>\n",
       "      <th>9130</th>\n",
       "      <td>-0.714411</td>\n",
       "      <td>-0.528450</td>\n",
       "      <td>-0.413278</td>\n",
       "      <td>-0.108908</td>\n",
       "      <td>-0.719046</td>\n",
       "      <td>-0.422250</td>\n",
       "      <td>-0.822648</td>\n",
       "      <td>-0.188956</td>\n",
       "    </tr>\n",
       "    <tr>\n",
       "      <th>9131</th>\n",
       "      <td>0.023135</td>\n",
       "      <td>-1.239617</td>\n",
       "      <td>-0.238891</td>\n",
       "      <td>-0.605299</td>\n",
       "      <td>-0.396517</td>\n",
       "      <td>2.873245</td>\n",
       "      <td>-0.404247</td>\n",
       "      <td>1.227937</td>\n",
       "    </tr>\n",
       "    <tr>\n",
       "      <th>9132</th>\n",
       "      <td>-0.069935</td>\n",
       "      <td>-0.517356</td>\n",
       "      <td>0.080820</td>\n",
       "      <td>1.876656</td>\n",
       "      <td>-1.614960</td>\n",
       "      <td>-0.422250</td>\n",
       "      <td>0.014154</td>\n",
       "      <td>0.885113</td>\n",
       "    </tr>\n",
       "    <tr>\n",
       "      <th>9133</th>\n",
       "      <td>-0.784955</td>\n",
       "      <td>-1.239617</td>\n",
       "      <td>-0.471408</td>\n",
       "      <td>-1.200968</td>\n",
       "      <td>1.502821</td>\n",
       "      <td>-0.422250</td>\n",
       "      <td>-0.822648</td>\n",
       "      <td>-0.222004</td>\n",
       "    </tr>\n",
       "  </tbody>\n",
       "</table>\n",
       "<p>9134 rows × 8 columns</p>\n",
       "</div>"
      ],
      "text/plain": [
       "      Customer Lifetime Value    Income  Monthly Premium Auto  \\\n",
       "0                   -0.762878  0.612827             -0.703925   \n",
       "1                   -0.149245 -1.239617              0.022691   \n",
       "2                    0.710636  0.365710              0.429596   \n",
       "3                   -0.052263 -1.239617              0.371467   \n",
       "4                   -0.755575  0.203390             -0.587666   \n",
       "...                       ...       ...                   ...   \n",
       "9129                 2.241590  1.128558             -0.587666   \n",
       "9130                -0.714411 -0.528450             -0.413278   \n",
       "9131                 0.023135 -1.239617             -0.238891   \n",
       "9132                -0.069935 -0.517356              0.080820   \n",
       "9133                -0.784955 -1.239617             -0.471408   \n",
       "\n",
       "      Months Since Last Claim  Months Since Policy Inception  \\\n",
       "0                    1.678099                      -1.543287   \n",
       "1                   -0.208186                      -0.217334   \n",
       "2                    0.288205                      -0.360680   \n",
       "3                    0.288205                       0.606907   \n",
       "4                   -0.307465                      -0.145661   \n",
       "...                       ...                            ...   \n",
       "9129                 0.288205                       1.466984   \n",
       "9130                -0.108908                      -0.719046   \n",
       "9131                -0.605299                      -0.396517   \n",
       "9132                 1.876656                      -1.614960   \n",
       "9133                -1.200968                       1.502821   \n",
       "\n",
       "      Number of Open Complaints  Number of Policies  Total Claim Amount  \n",
       "0                     -0.422250           -0.822648           -0.169640  \n",
       "1                     -0.422250            2.106160            2.400737  \n",
       "2                     -0.422250           -0.404247            0.455734  \n",
       "3                     -0.422250            1.687759            0.329769  \n",
       "4                     -0.422250           -0.822648           -1.018843  \n",
       "...                         ...                 ...                 ...  \n",
       "9129                  -0.422250           -0.404247           -0.811934  \n",
       "9130                  -0.422250           -0.822648           -0.188956  \n",
       "9131                   2.873245           -0.404247            1.227937  \n",
       "9132                  -0.422250            0.014154            0.885113  \n",
       "9133                  -0.422250           -0.822648           -0.222004  \n",
       "\n",
       "[9134 rows x 8 columns]"
      ]
     },
     "execution_count": 9,
     "metadata": {},
     "output_type": "execute_result"
    }
   ],
   "source": [
    "Standardtransformer = StandardScaler().fit(cus_num)\n",
    "X_standardized = Standardtransformer.transform(cus_num)\n",
    "\n",
    "cus_std = pd.DataFrame(X_standardized,columns=cus_num.columns)\n",
    "cus_std"
   ]
  },
  {
   "cell_type": "code",
   "execution_count": 10,
   "id": "7b1f89a0",
   "metadata": {},
   "outputs": [
    {
     "data": {
      "text/html": [
       "<div>\n",
       "<style scoped>\n",
       "    .dataframe tbody tr th:only-of-type {\n",
       "        vertical-align: middle;\n",
       "    }\n",
       "\n",
       "    .dataframe tbody tr th {\n",
       "        vertical-align: top;\n",
       "    }\n",
       "\n",
       "    .dataframe thead th {\n",
       "        text-align: right;\n",
       "    }\n",
       "</style>\n",
       "<table border=\"1\" class=\"dataframe\">\n",
       "  <thead>\n",
       "    <tr style=\"text-align: right;\">\n",
       "      <th></th>\n",
       "      <th>Customer Lifetime Value</th>\n",
       "      <th>Income</th>\n",
       "      <th>Monthly Premium Auto</th>\n",
       "      <th>Months Since Last Claim</th>\n",
       "      <th>Months Since Policy Inception</th>\n",
       "      <th>Number of Open Complaints</th>\n",
       "      <th>Number of Policies</th>\n",
       "      <th>Total Claim Amount</th>\n",
       "      <th>State_California</th>\n",
       "      <th>State_Nevada</th>\n",
       "      <th>...</th>\n",
       "      <th>Sales Channel_Branch</th>\n",
       "      <th>Sales Channel_Call Center</th>\n",
       "      <th>Sales Channel_Web</th>\n",
       "      <th>Vehicle Class_Luxury Car</th>\n",
       "      <th>Vehicle Class_Luxury SUV</th>\n",
       "      <th>Vehicle Class_SUV</th>\n",
       "      <th>Vehicle Class_Sports Car</th>\n",
       "      <th>Vehicle Class_Two-Door Car</th>\n",
       "      <th>Vehicle Size_Medsize</th>\n",
       "      <th>Vehicle Size_Small</th>\n",
       "    </tr>\n",
       "  </thead>\n",
       "  <tbody>\n",
       "    <tr>\n",
       "      <th>0</th>\n",
       "      <td>-0.762878</td>\n",
       "      <td>0.612827</td>\n",
       "      <td>-0.703925</td>\n",
       "      <td>1.678099</td>\n",
       "      <td>-1.543287</td>\n",
       "      <td>-0.422250</td>\n",
       "      <td>-0.822648</td>\n",
       "      <td>-0.169640</td>\n",
       "      <td>0.0</td>\n",
       "      <td>0.0</td>\n",
       "      <td>...</td>\n",
       "      <td>0.0</td>\n",
       "      <td>0.0</td>\n",
       "      <td>0.0</td>\n",
       "      <td>0.0</td>\n",
       "      <td>0.0</td>\n",
       "      <td>0.0</td>\n",
       "      <td>0.0</td>\n",
       "      <td>1.0</td>\n",
       "      <td>1.0</td>\n",
       "      <td>0.0</td>\n",
       "    </tr>\n",
       "    <tr>\n",
       "      <th>1</th>\n",
       "      <td>-0.149245</td>\n",
       "      <td>-1.239617</td>\n",
       "      <td>0.022691</td>\n",
       "      <td>-0.208186</td>\n",
       "      <td>-0.217334</td>\n",
       "      <td>-0.422250</td>\n",
       "      <td>2.106160</td>\n",
       "      <td>2.400737</td>\n",
       "      <td>0.0</td>\n",
       "      <td>0.0</td>\n",
       "      <td>...</td>\n",
       "      <td>0.0</td>\n",
       "      <td>0.0</td>\n",
       "      <td>0.0</td>\n",
       "      <td>0.0</td>\n",
       "      <td>0.0</td>\n",
       "      <td>0.0</td>\n",
       "      <td>0.0</td>\n",
       "      <td>0.0</td>\n",
       "      <td>1.0</td>\n",
       "      <td>0.0</td>\n",
       "    </tr>\n",
       "    <tr>\n",
       "      <th>2</th>\n",
       "      <td>0.710636</td>\n",
       "      <td>0.365710</td>\n",
       "      <td>0.429596</td>\n",
       "      <td>0.288205</td>\n",
       "      <td>-0.360680</td>\n",
       "      <td>-0.422250</td>\n",
       "      <td>-0.404247</td>\n",
       "      <td>0.455734</td>\n",
       "      <td>0.0</td>\n",
       "      <td>1.0</td>\n",
       "      <td>...</td>\n",
       "      <td>0.0</td>\n",
       "      <td>0.0</td>\n",
       "      <td>0.0</td>\n",
       "      <td>0.0</td>\n",
       "      <td>0.0</td>\n",
       "      <td>0.0</td>\n",
       "      <td>0.0</td>\n",
       "      <td>1.0</td>\n",
       "      <td>1.0</td>\n",
       "      <td>0.0</td>\n",
       "    </tr>\n",
       "    <tr>\n",
       "      <th>3</th>\n",
       "      <td>-0.052263</td>\n",
       "      <td>-1.239617</td>\n",
       "      <td>0.371467</td>\n",
       "      <td>0.288205</td>\n",
       "      <td>0.606907</td>\n",
       "      <td>-0.422250</td>\n",
       "      <td>1.687759</td>\n",
       "      <td>0.329769</td>\n",
       "      <td>1.0</td>\n",
       "      <td>0.0</td>\n",
       "      <td>...</td>\n",
       "      <td>0.0</td>\n",
       "      <td>1.0</td>\n",
       "      <td>0.0</td>\n",
       "      <td>0.0</td>\n",
       "      <td>0.0</td>\n",
       "      <td>1.0</td>\n",
       "      <td>0.0</td>\n",
       "      <td>0.0</td>\n",
       "      <td>1.0</td>\n",
       "      <td>0.0</td>\n",
       "    </tr>\n",
       "    <tr>\n",
       "      <th>4</th>\n",
       "      <td>-0.755575</td>\n",
       "      <td>0.203390</td>\n",
       "      <td>-0.587666</td>\n",
       "      <td>-0.307465</td>\n",
       "      <td>-0.145661</td>\n",
       "      <td>-0.422250</td>\n",
       "      <td>-0.822648</td>\n",
       "      <td>-1.018843</td>\n",
       "      <td>0.0</td>\n",
       "      <td>0.0</td>\n",
       "      <td>...</td>\n",
       "      <td>0.0</td>\n",
       "      <td>0.0</td>\n",
       "      <td>0.0</td>\n",
       "      <td>0.0</td>\n",
       "      <td>0.0</td>\n",
       "      <td>0.0</td>\n",
       "      <td>0.0</td>\n",
       "      <td>0.0</td>\n",
       "      <td>1.0</td>\n",
       "      <td>0.0</td>\n",
       "    </tr>\n",
       "    <tr>\n",
       "      <th>...</th>\n",
       "      <td>...</td>\n",
       "      <td>...</td>\n",
       "      <td>...</td>\n",
       "      <td>...</td>\n",
       "      <td>...</td>\n",
       "      <td>...</td>\n",
       "      <td>...</td>\n",
       "      <td>...</td>\n",
       "      <td>...</td>\n",
       "      <td>...</td>\n",
       "      <td>...</td>\n",
       "      <td>...</td>\n",
       "      <td>...</td>\n",
       "      <td>...</td>\n",
       "      <td>...</td>\n",
       "      <td>...</td>\n",
       "      <td>...</td>\n",
       "      <td>...</td>\n",
       "      <td>...</td>\n",
       "      <td>...</td>\n",
       "      <td>...</td>\n",
       "    </tr>\n",
       "    <tr>\n",
       "      <th>9129</th>\n",
       "      <td>2.241590</td>\n",
       "      <td>1.128558</td>\n",
       "      <td>-0.587666</td>\n",
       "      <td>0.288205</td>\n",
       "      <td>1.466984</td>\n",
       "      <td>-0.422250</td>\n",
       "      <td>-0.404247</td>\n",
       "      <td>-0.811934</td>\n",
       "      <td>1.0</td>\n",
       "      <td>0.0</td>\n",
       "      <td>...</td>\n",
       "      <td>0.0</td>\n",
       "      <td>0.0</td>\n",
       "      <td>1.0</td>\n",
       "      <td>0.0</td>\n",
       "      <td>0.0</td>\n",
       "      <td>0.0</td>\n",
       "      <td>0.0</td>\n",
       "      <td>0.0</td>\n",
       "      <td>1.0</td>\n",
       "      <td>0.0</td>\n",
       "    </tr>\n",
       "    <tr>\n",
       "      <th>9130</th>\n",
       "      <td>-0.714411</td>\n",
       "      <td>-0.528450</td>\n",
       "      <td>-0.413278</td>\n",
       "      <td>-0.108908</td>\n",
       "      <td>-0.719046</td>\n",
       "      <td>-0.422250</td>\n",
       "      <td>-0.822648</td>\n",
       "      <td>-0.188956</td>\n",
       "      <td>1.0</td>\n",
       "      <td>0.0</td>\n",
       "      <td>...</td>\n",
       "      <td>1.0</td>\n",
       "      <td>0.0</td>\n",
       "      <td>0.0</td>\n",
       "      <td>0.0</td>\n",
       "      <td>0.0</td>\n",
       "      <td>0.0</td>\n",
       "      <td>0.0</td>\n",
       "      <td>0.0</td>\n",
       "      <td>1.0</td>\n",
       "      <td>0.0</td>\n",
       "    </tr>\n",
       "    <tr>\n",
       "      <th>9131</th>\n",
       "      <td>0.023135</td>\n",
       "      <td>-1.239617</td>\n",
       "      <td>-0.238891</td>\n",
       "      <td>-0.605299</td>\n",
       "      <td>-0.396517</td>\n",
       "      <td>2.873245</td>\n",
       "      <td>-0.404247</td>\n",
       "      <td>1.227937</td>\n",
       "      <td>1.0</td>\n",
       "      <td>0.0</td>\n",
       "      <td>...</td>\n",
       "      <td>1.0</td>\n",
       "      <td>0.0</td>\n",
       "      <td>0.0</td>\n",
       "      <td>0.0</td>\n",
       "      <td>0.0</td>\n",
       "      <td>0.0</td>\n",
       "      <td>0.0</td>\n",
       "      <td>0.0</td>\n",
       "      <td>1.0</td>\n",
       "      <td>0.0</td>\n",
       "    </tr>\n",
       "    <tr>\n",
       "      <th>9132</th>\n",
       "      <td>-0.069935</td>\n",
       "      <td>-0.517356</td>\n",
       "      <td>0.080820</td>\n",
       "      <td>1.876656</td>\n",
       "      <td>-1.614960</td>\n",
       "      <td>-0.422250</td>\n",
       "      <td>0.014154</td>\n",
       "      <td>0.885113</td>\n",
       "      <td>1.0</td>\n",
       "      <td>0.0</td>\n",
       "      <td>...</td>\n",
       "      <td>1.0</td>\n",
       "      <td>0.0</td>\n",
       "      <td>0.0</td>\n",
       "      <td>0.0</td>\n",
       "      <td>0.0</td>\n",
       "      <td>0.0</td>\n",
       "      <td>0.0</td>\n",
       "      <td>0.0</td>\n",
       "      <td>0.0</td>\n",
       "      <td>0.0</td>\n",
       "    </tr>\n",
       "    <tr>\n",
       "      <th>9133</th>\n",
       "      <td>-0.784955</td>\n",
       "      <td>-1.239617</td>\n",
       "      <td>-0.471408</td>\n",
       "      <td>-1.200968</td>\n",
       "      <td>1.502821</td>\n",
       "      <td>-0.422250</td>\n",
       "      <td>-0.822648</td>\n",
       "      <td>-0.222004</td>\n",
       "      <td>1.0</td>\n",
       "      <td>0.0</td>\n",
       "      <td>...</td>\n",
       "      <td>0.0</td>\n",
       "      <td>1.0</td>\n",
       "      <td>0.0</td>\n",
       "      <td>0.0</td>\n",
       "      <td>0.0</td>\n",
       "      <td>0.0</td>\n",
       "      <td>0.0</td>\n",
       "      <td>1.0</td>\n",
       "      <td>1.0</td>\n",
       "      <td>0.0</td>\n",
       "    </tr>\n",
       "  </tbody>\n",
       "</table>\n",
       "<p>9134 rows × 51 columns</p>\n",
       "</div>"
      ],
      "text/plain": [
       "      Customer Lifetime Value    Income  Monthly Premium Auto  \\\n",
       "0                   -0.762878  0.612827             -0.703925   \n",
       "1                   -0.149245 -1.239617              0.022691   \n",
       "2                    0.710636  0.365710              0.429596   \n",
       "3                   -0.052263 -1.239617              0.371467   \n",
       "4                   -0.755575  0.203390             -0.587666   \n",
       "...                       ...       ...                   ...   \n",
       "9129                 2.241590  1.128558             -0.587666   \n",
       "9130                -0.714411 -0.528450             -0.413278   \n",
       "9131                 0.023135 -1.239617             -0.238891   \n",
       "9132                -0.069935 -0.517356              0.080820   \n",
       "9133                -0.784955 -1.239617             -0.471408   \n",
       "\n",
       "      Months Since Last Claim  Months Since Policy Inception  \\\n",
       "0                    1.678099                      -1.543287   \n",
       "1                   -0.208186                      -0.217334   \n",
       "2                    0.288205                      -0.360680   \n",
       "3                    0.288205                       0.606907   \n",
       "4                   -0.307465                      -0.145661   \n",
       "...                       ...                            ...   \n",
       "9129                 0.288205                       1.466984   \n",
       "9130                -0.108908                      -0.719046   \n",
       "9131                -0.605299                      -0.396517   \n",
       "9132                 1.876656                      -1.614960   \n",
       "9133                -1.200968                       1.502821   \n",
       "\n",
       "      Number of Open Complaints  Number of Policies  Total Claim Amount  \\\n",
       "0                     -0.422250           -0.822648           -0.169640   \n",
       "1                     -0.422250            2.106160            2.400737   \n",
       "2                     -0.422250           -0.404247            0.455734   \n",
       "3                     -0.422250            1.687759            0.329769   \n",
       "4                     -0.422250           -0.822648           -1.018843   \n",
       "...                         ...                 ...                 ...   \n",
       "9129                  -0.422250           -0.404247           -0.811934   \n",
       "9130                  -0.422250           -0.822648           -0.188956   \n",
       "9131                   2.873245           -0.404247            1.227937   \n",
       "9132                  -0.422250            0.014154            0.885113   \n",
       "9133                  -0.422250           -0.822648           -0.222004   \n",
       "\n",
       "      State_California  State_Nevada  ...  Sales Channel_Branch  \\\n",
       "0                  0.0           0.0  ...                   0.0   \n",
       "1                  0.0           0.0  ...                   0.0   \n",
       "2                  0.0           1.0  ...                   0.0   \n",
       "3                  1.0           0.0  ...                   0.0   \n",
       "4                  0.0           0.0  ...                   0.0   \n",
       "...                ...           ...  ...                   ...   \n",
       "9129               1.0           0.0  ...                   0.0   \n",
       "9130               1.0           0.0  ...                   1.0   \n",
       "9131               1.0           0.0  ...                   1.0   \n",
       "9132               1.0           0.0  ...                   1.0   \n",
       "9133               1.0           0.0  ...                   0.0   \n",
       "\n",
       "      Sales Channel_Call Center  Sales Channel_Web  Vehicle Class_Luxury Car  \\\n",
       "0                           0.0                0.0                       0.0   \n",
       "1                           0.0                0.0                       0.0   \n",
       "2                           0.0                0.0                       0.0   \n",
       "3                           1.0                0.0                       0.0   \n",
       "4                           0.0                0.0                       0.0   \n",
       "...                         ...                ...                       ...   \n",
       "9129                        0.0                1.0                       0.0   \n",
       "9130                        0.0                0.0                       0.0   \n",
       "9131                        0.0                0.0                       0.0   \n",
       "9132                        0.0                0.0                       0.0   \n",
       "9133                        1.0                0.0                       0.0   \n",
       "\n",
       "      Vehicle Class_Luxury SUV  Vehicle Class_SUV  Vehicle Class_Sports Car  \\\n",
       "0                          0.0                0.0                       0.0   \n",
       "1                          0.0                0.0                       0.0   \n",
       "2                          0.0                0.0                       0.0   \n",
       "3                          0.0                1.0                       0.0   \n",
       "4                          0.0                0.0                       0.0   \n",
       "...                        ...                ...                       ...   \n",
       "9129                       0.0                0.0                       0.0   \n",
       "9130                       0.0                0.0                       0.0   \n",
       "9131                       0.0                0.0                       0.0   \n",
       "9132                       0.0                0.0                       0.0   \n",
       "9133                       0.0                0.0                       0.0   \n",
       "\n",
       "      Vehicle Class_Two-Door Car  Vehicle Size_Medsize  Vehicle Size_Small  \n",
       "0                            1.0                   1.0                 0.0  \n",
       "1                            0.0                   1.0                 0.0  \n",
       "2                            1.0                   1.0                 0.0  \n",
       "3                            0.0                   1.0                 0.0  \n",
       "4                            0.0                   1.0                 0.0  \n",
       "...                          ...                   ...                 ...  \n",
       "9129                         0.0                   1.0                 0.0  \n",
       "9130                         0.0                   1.0                 0.0  \n",
       "9131                         0.0                   1.0                 0.0  \n",
       "9132                         0.0                   0.0                 0.0  \n",
       "9133                         1.0                   1.0                 0.0  \n",
       "\n",
       "[9134 rows x 51 columns]"
      ]
     },
     "execution_count": 10,
     "metadata": {},
     "output_type": "execute_result"
    }
   ],
   "source": [
    "customer3 = pd.concat([cus_std, onehot_encoded], axis=1)\n",
    "customer3"
   ]
  },
  {
   "cell_type": "code",
   "execution_count": 11,
   "id": "1d397659",
   "metadata": {},
   "outputs": [
    {
     "data": {
      "text/plain": [
       "1.0"
      ]
     },
     "execution_count": 11,
     "metadata": {},
     "output_type": "execute_result"
    }
   ],
   "source": [
    "y = customer['Total Claim Amount']\n",
    "X = customer3\n",
    "\n",
    "X_train, X_test, y_train, y_test = train_test_split(X, y, test_size=0.1)\n",
    "\n",
    "lm = linear_model.LinearRegression()\n",
    "lm.fit(X_train,y_train)\n",
    "\n",
    "predictions = lm.predict(X_train)\n",
    "r2_score(y_train, predictions)"
   ]
  },
  {
   "cell_type": "code",
   "execution_count": null,
   "id": "8dc704ef",
   "metadata": {},
   "outputs": [],
   "source": [
    "predictions_test = lm.predict(X_test)\n",
    "r2_score(y_test, predictions_test)"
   ]
  },
  {
   "cell_type": "markdown",
   "id": "75fe524c",
   "metadata": {},
   "source": [
    "The model has a perfect R2 score. I´ve been checking if I had commited a mistake. I´ve done the standardscaler twice in a dfferent notebook, with all reset and I´ve also checked this:\n",
    "\n",
    "- Overfitting: I didn´t drop outliers.\n",
    "\n",
    "- I tested the model with test size=0.001 and it gives the same result\n",
    "\n",
    "I have checked that this could be due to \"it helps the learning algorithm converge faster, especially for algorithms that are sensitive to feature scales\", and that \"standard scaling is useful when the features have different scales or when some features have large variances compared to others\". So I´m going to check the statistics.\n"
   ]
  },
  {
   "cell_type": "code",
   "execution_count": 13,
   "id": "18e9fb13",
   "metadata": {},
   "outputs": [
    {
     "data": {
      "text/html": [
       "<div>\n",
       "<style scoped>\n",
       "    .dataframe tbody tr th:only-of-type {\n",
       "        vertical-align: middle;\n",
       "    }\n",
       "\n",
       "    .dataframe tbody tr th {\n",
       "        vertical-align: top;\n",
       "    }\n",
       "\n",
       "    .dataframe thead th {\n",
       "        text-align: right;\n",
       "    }\n",
       "</style>\n",
       "<table border=\"1\" class=\"dataframe\">\n",
       "  <thead>\n",
       "    <tr style=\"text-align: right;\">\n",
       "      <th></th>\n",
       "      <th>Customer Lifetime Value</th>\n",
       "      <th>Income</th>\n",
       "      <th>Monthly Premium Auto</th>\n",
       "      <th>Months Since Last Claim</th>\n",
       "      <th>Months Since Policy Inception</th>\n",
       "      <th>Number of Open Complaints</th>\n",
       "      <th>Number of Policies</th>\n",
       "      <th>Total Claim Amount</th>\n",
       "      <th>State_California</th>\n",
       "      <th>State_Nevada</th>\n",
       "      <th>...</th>\n",
       "      <th>Sales Channel_Branch</th>\n",
       "      <th>Sales Channel_Call Center</th>\n",
       "      <th>Sales Channel_Web</th>\n",
       "      <th>Vehicle Class_Luxury Car</th>\n",
       "      <th>Vehicle Class_Luxury SUV</th>\n",
       "      <th>Vehicle Class_SUV</th>\n",
       "      <th>Vehicle Class_Sports Car</th>\n",
       "      <th>Vehicle Class_Two-Door Car</th>\n",
       "      <th>Vehicle Size_Medsize</th>\n",
       "      <th>Vehicle Size_Small</th>\n",
       "    </tr>\n",
       "  </thead>\n",
       "  <tbody>\n",
       "    <tr>\n",
       "      <th>count</th>\n",
       "      <td>9.134000e+03</td>\n",
       "      <td>9.134000e+03</td>\n",
       "      <td>9.134000e+03</td>\n",
       "      <td>9.134000e+03</td>\n",
       "      <td>9.134000e+03</td>\n",
       "      <td>9.134000e+03</td>\n",
       "      <td>9.134000e+03</td>\n",
       "      <td>9.134000e+03</td>\n",
       "      <td>9134.000000</td>\n",
       "      <td>9134.000000</td>\n",
       "      <td>...</td>\n",
       "      <td>9134.000000</td>\n",
       "      <td>9134.000000</td>\n",
       "      <td>9134.000000</td>\n",
       "      <td>9134.000000</td>\n",
       "      <td>9134.000000</td>\n",
       "      <td>9134.000000</td>\n",
       "      <td>9134.000000</td>\n",
       "      <td>9134.000000</td>\n",
       "      <td>9134.000000</td>\n",
       "      <td>9134.000000</td>\n",
       "    </tr>\n",
       "    <tr>\n",
       "      <th>mean</th>\n",
       "      <td>4.006235e-17</td>\n",
       "      <td>7.467933e-17</td>\n",
       "      <td>-1.487752e-16</td>\n",
       "      <td>4.472981e-17</td>\n",
       "      <td>1.003504e-16</td>\n",
       "      <td>7.623515e-17</td>\n",
       "      <td>-1.361342e-17</td>\n",
       "      <td>-3.656176e-17</td>\n",
       "      <td>0.344865</td>\n",
       "      <td>0.096562</td>\n",
       "      <td>...</td>\n",
       "      <td>0.281038</td>\n",
       "      <td>0.193234</td>\n",
       "      <td>0.145062</td>\n",
       "      <td>0.017845</td>\n",
       "      <td>0.020145</td>\n",
       "      <td>0.196628</td>\n",
       "      <td>0.052989</td>\n",
       "      <td>0.206481</td>\n",
       "      <td>0.703306</td>\n",
       "      <td>0.193125</td>\n",
       "    </tr>\n",
       "    <tr>\n",
       "      <th>std</th>\n",
       "      <td>1.000055e+00</td>\n",
       "      <td>1.000055e+00</td>\n",
       "      <td>1.000055e+00</td>\n",
       "      <td>1.000055e+00</td>\n",
       "      <td>1.000055e+00</td>\n",
       "      <td>1.000055e+00</td>\n",
       "      <td>1.000055e+00</td>\n",
       "      <td>1.000055e+00</td>\n",
       "      <td>0.475350</td>\n",
       "      <td>0.295377</td>\n",
       "      <td>...</td>\n",
       "      <td>0.449531</td>\n",
       "      <td>0.394857</td>\n",
       "      <td>0.352183</td>\n",
       "      <td>0.132397</td>\n",
       "      <td>0.140502</td>\n",
       "      <td>0.397470</td>\n",
       "      <td>0.224023</td>\n",
       "      <td>0.404802</td>\n",
       "      <td>0.456825</td>\n",
       "      <td>0.394772</td>\n",
       "    </tr>\n",
       "    <tr>\n",
       "      <th>min</th>\n",
       "      <td>-8.888511e-01</td>\n",
       "      <td>-1.239617e+00</td>\n",
       "      <td>-9.364417e-01</td>\n",
       "      <td>-1.498803e+00</td>\n",
       "      <td>-1.722470e+00</td>\n",
       "      <td>-4.222496e-01</td>\n",
       "      <td>-8.226479e-01</td>\n",
       "      <td>-1.494022e+00</td>\n",
       "      <td>0.000000</td>\n",
       "      <td>0.000000</td>\n",
       "      <td>...</td>\n",
       "      <td>0.000000</td>\n",
       "      <td>0.000000</td>\n",
       "      <td>0.000000</td>\n",
       "      <td>0.000000</td>\n",
       "      <td>0.000000</td>\n",
       "      <td>0.000000</td>\n",
       "      <td>0.000000</td>\n",
       "      <td>0.000000</td>\n",
       "      <td>0.000000</td>\n",
       "      <td>0.000000</td>\n",
       "    </tr>\n",
       "    <tr>\n",
       "      <th>25%</th>\n",
       "      <td>-5.837472e-01</td>\n",
       "      <td>-1.239617e+00</td>\n",
       "      <td>-7.329893e-01</td>\n",
       "      <td>-9.031338e-01</td>\n",
       "      <td>-8.623923e-01</td>\n",
       "      <td>-4.222496e-01</td>\n",
       "      <td>-8.226479e-01</td>\n",
       "      <td>-5.571062e-01</td>\n",
       "      <td>0.000000</td>\n",
       "      <td>0.000000</td>\n",
       "      <td>...</td>\n",
       "      <td>0.000000</td>\n",
       "      <td>0.000000</td>\n",
       "      <td>0.000000</td>\n",
       "      <td>0.000000</td>\n",
       "      <td>0.000000</td>\n",
       "      <td>0.000000</td>\n",
       "      <td>0.000000</td>\n",
       "      <td>0.000000</td>\n",
       "      <td>0.000000</td>\n",
       "      <td>0.000000</td>\n",
       "    </tr>\n",
       "    <tr>\n",
       "      <th>50%</th>\n",
       "      <td>-3.238088e-01</td>\n",
       "      <td>-1.240322e-01</td>\n",
       "      <td>-2.970199e-01</td>\n",
       "      <td>-1.089082e-01</td>\n",
       "      <td>-2.314821e-03</td>\n",
       "      <td>-4.222496e-01</td>\n",
       "      <td>-4.042468e-01</td>\n",
       "      <td>-1.726199e-01</td>\n",
       "      <td>0.000000</td>\n",
       "      <td>0.000000</td>\n",
       "      <td>...</td>\n",
       "      <td>0.000000</td>\n",
       "      <td>0.000000</td>\n",
       "      <td>0.000000</td>\n",
       "      <td>0.000000</td>\n",
       "      <td>0.000000</td>\n",
       "      <td>0.000000</td>\n",
       "      <td>0.000000</td>\n",
       "      <td>0.000000</td>\n",
       "      <td>1.000000</td>\n",
       "      <td>0.000000</td>\n",
       "    </tr>\n",
       "    <tr>\n",
       "      <th>75%</th>\n",
       "      <td>1.393223e-01</td>\n",
       "      <td>8.118515e-01</td>\n",
       "      <td>4.586604e-01</td>\n",
       "      <td>7.845956e-01</td>\n",
       "      <td>8.219261e-01</td>\n",
       "      <td>-4.222496e-01</td>\n",
       "      <td>4.325555e-01</td>\n",
       "      <td>3.904724e-01</td>\n",
       "      <td>1.000000</td>\n",
       "      <td>0.000000</td>\n",
       "      <td>...</td>\n",
       "      <td>1.000000</td>\n",
       "      <td>0.000000</td>\n",
       "      <td>0.000000</td>\n",
       "      <td>0.000000</td>\n",
       "      <td>0.000000</td>\n",
       "      <td>0.000000</td>\n",
       "      <td>0.000000</td>\n",
       "      <td>0.000000</td>\n",
       "      <td>1.000000</td>\n",
       "      <td>0.000000</td>\n",
       "    </tr>\n",
       "    <tr>\n",
       "      <th>max</th>\n",
       "      <td>1.096273e+01</td>\n",
       "      <td>2.051587e+00</td>\n",
       "      <td>5.951875e+00</td>\n",
       "      <td>1.975934e+00</td>\n",
       "      <td>1.825350e+00</td>\n",
       "      <td>5.070242e+00</td>\n",
       "      <td>2.524561e+00</td>\n",
       "      <td>8.465696e+00</td>\n",
       "      <td>1.000000</td>\n",
       "      <td>1.000000</td>\n",
       "      <td>...</td>\n",
       "      <td>1.000000</td>\n",
       "      <td>1.000000</td>\n",
       "      <td>1.000000</td>\n",
       "      <td>1.000000</td>\n",
       "      <td>1.000000</td>\n",
       "      <td>1.000000</td>\n",
       "      <td>1.000000</td>\n",
       "      <td>1.000000</td>\n",
       "      <td>1.000000</td>\n",
       "      <td>1.000000</td>\n",
       "    </tr>\n",
       "  </tbody>\n",
       "</table>\n",
       "<p>8 rows × 51 columns</p>\n",
       "</div>"
      ],
      "text/plain": [
       "       Customer Lifetime Value        Income  Monthly Premium Auto  \\\n",
       "count             9.134000e+03  9.134000e+03          9.134000e+03   \n",
       "mean              4.006235e-17  7.467933e-17         -1.487752e-16   \n",
       "std               1.000055e+00  1.000055e+00          1.000055e+00   \n",
       "min              -8.888511e-01 -1.239617e+00         -9.364417e-01   \n",
       "25%              -5.837472e-01 -1.239617e+00         -7.329893e-01   \n",
       "50%              -3.238088e-01 -1.240322e-01         -2.970199e-01   \n",
       "75%               1.393223e-01  8.118515e-01          4.586604e-01   \n",
       "max               1.096273e+01  2.051587e+00          5.951875e+00   \n",
       "\n",
       "       Months Since Last Claim  Months Since Policy Inception  \\\n",
       "count             9.134000e+03                   9.134000e+03   \n",
       "mean              4.472981e-17                   1.003504e-16   \n",
       "std               1.000055e+00                   1.000055e+00   \n",
       "min              -1.498803e+00                  -1.722470e+00   \n",
       "25%              -9.031338e-01                  -8.623923e-01   \n",
       "50%              -1.089082e-01                  -2.314821e-03   \n",
       "75%               7.845956e-01                   8.219261e-01   \n",
       "max               1.975934e+00                   1.825350e+00   \n",
       "\n",
       "       Number of Open Complaints  Number of Policies  Total Claim Amount  \\\n",
       "count               9.134000e+03        9.134000e+03        9.134000e+03   \n",
       "mean                7.623515e-17       -1.361342e-17       -3.656176e-17   \n",
       "std                 1.000055e+00        1.000055e+00        1.000055e+00   \n",
       "min                -4.222496e-01       -8.226479e-01       -1.494022e+00   \n",
       "25%                -4.222496e-01       -8.226479e-01       -5.571062e-01   \n",
       "50%                -4.222496e-01       -4.042468e-01       -1.726199e-01   \n",
       "75%                -4.222496e-01        4.325555e-01        3.904724e-01   \n",
       "max                 5.070242e+00        2.524561e+00        8.465696e+00   \n",
       "\n",
       "       State_California  State_Nevada  ...  Sales Channel_Branch  \\\n",
       "count       9134.000000   9134.000000  ...           9134.000000   \n",
       "mean           0.344865      0.096562  ...              0.281038   \n",
       "std            0.475350      0.295377  ...              0.449531   \n",
       "min            0.000000      0.000000  ...              0.000000   \n",
       "25%            0.000000      0.000000  ...              0.000000   \n",
       "50%            0.000000      0.000000  ...              0.000000   \n",
       "75%            1.000000      0.000000  ...              1.000000   \n",
       "max            1.000000      1.000000  ...              1.000000   \n",
       "\n",
       "       Sales Channel_Call Center  Sales Channel_Web  Vehicle Class_Luxury Car  \\\n",
       "count                9134.000000        9134.000000               9134.000000   \n",
       "mean                    0.193234           0.145062                  0.017845   \n",
       "std                     0.394857           0.352183                  0.132397   \n",
       "min                     0.000000           0.000000                  0.000000   \n",
       "25%                     0.000000           0.000000                  0.000000   \n",
       "50%                     0.000000           0.000000                  0.000000   \n",
       "75%                     0.000000           0.000000                  0.000000   \n",
       "max                     1.000000           1.000000                  1.000000   \n",
       "\n",
       "       Vehicle Class_Luxury SUV  Vehicle Class_SUV  Vehicle Class_Sports Car  \\\n",
       "count               9134.000000        9134.000000               9134.000000   \n",
       "mean                   0.020145           0.196628                  0.052989   \n",
       "std                    0.140502           0.397470                  0.224023   \n",
       "min                    0.000000           0.000000                  0.000000   \n",
       "25%                    0.000000           0.000000                  0.000000   \n",
       "50%                    0.000000           0.000000                  0.000000   \n",
       "75%                    0.000000           0.000000                  0.000000   \n",
       "max                    1.000000           1.000000                  1.000000   \n",
       "\n",
       "       Vehicle Class_Two-Door Car  Vehicle Size_Medsize  Vehicle Size_Small  \n",
       "count                 9134.000000           9134.000000         9134.000000  \n",
       "mean                     0.206481              0.703306            0.193125  \n",
       "std                      0.404802              0.456825            0.394772  \n",
       "min                      0.000000              0.000000            0.000000  \n",
       "25%                      0.000000              0.000000            0.000000  \n",
       "50%                      0.000000              1.000000            0.000000  \n",
       "75%                      0.000000              1.000000            0.000000  \n",
       "max                      1.000000              1.000000            1.000000  \n",
       "\n",
       "[8 rows x 51 columns]"
      ]
     },
     "execution_count": 13,
     "metadata": {},
     "output_type": "execute_result"
    }
   ],
   "source": [
    "customer3.describe()"
   ]
  },
  {
   "cell_type": "markdown",
   "id": "9c0d9fba",
   "metadata": {},
   "source": [
    "Can we say this could be due to the std (290) is quite low taking into acount the range (0.09 to 2893.23) is big?\n"
   ]
  },
  {
   "cell_type": "code",
   "execution_count": 14,
   "id": "65db4529",
   "metadata": {},
   "outputs": [
    {
     "data": {
      "text/plain": [
       "<seaborn.axisgrid.FacetGrid at 0x2792c6a18a0>"
      ]
     },
     "execution_count": 14,
     "metadata": {},
     "output_type": "execute_result"
    },
    {
     "data": {
      "image/png": "[encoded data removed]",
      "text/plain": [
       "<Figure size 500x500 with 1 Axes>"
      ]
     },
     "metadata": {},
     "output_type": "display_data"
    }
   ],
   "source": [
    "sns.displot(customer3['Total Claim Amount'])"
   ]
  },
  {
   "cell_type": "markdown",
   "id": "c1a9d770",
   "metadata": {},
   "source": [
    "### Model Normalised with StandardScaler - Only Numerical"
   ]
  },
  {
   "cell_type": "code",
   "execution_count": null,
   "id": "96a40018",
   "metadata": {},
   "outputs": [],
   "source": [
    "y = customer['Total Claim Amount']\n",
    "X = cus_std\n",
    "\n",
    "X_train, X_test, y_train, y_test = train_test_split(X, y, test_size=0.001)\n",
    "\n",
    "lm = linear_model.LinearRegression()\n",
    "lm.fit(X_train,y_train)\n",
    "\n",
    "predictions = lm.predict(X_train)\n",
    "r2_score(y_train, predictions)"
   ]
  },
  {
   "cell_type": "markdown",
   "id": "d67093d6",
   "metadata": {},
   "source": [
    "It also gives a score of 1 considering only numerical columns."
   ]
  },
  {
   "cell_type": "markdown",
   "id": "d068efb1",
   "metadata": {},
   "source": [
    "### Dropping outliers - Normalised with MinMax"
   ]
  },
  {
   "cell_type": "code",
   "execution_count": null,
   "id": "3a83d8fb",
   "metadata": {
    "scrolled": false
   },
   "outputs": [],
   "source": [
    "customer = pd.read_csv('marketing_customer_analysis.csv')\n",
    "customer = customer[(customer['Total Claim Amount']>lower_limit)&(cus_num['Total Claim Amount']<2300)]"
   ]
  },
  {
   "cell_type": "code",
   "execution_count": null,
   "id": "259778ac",
   "metadata": {},
   "outputs": [],
   "source": [
    "cus_cat = customer.select_dtypes(include = np.object)\n",
    "cus_one = cus_cat.drop(['Customer', 'Effective To Date'], axis=1)\n",
    "encoder = OneHotEncoder(drop='first').fit(cus_one)\n",
    "encoded = encoder.transform(cus_one).toarray()\n",
    "onehot_encoded = pd.DataFrame(encoded, columns=encoder.get_feature_names_out())\n",
    "\n",
    "cus_num = customer.select_dtypes(include = np.number)\n",
    "y = cus_num['Total Claim Amount']\n",
    "X = cus_num.drop(['Total Claim Amount'], axis=1)\n",
    "transformer = MinMaxScaler().fit(cus_num)\n",
    "x_normalized = transformer.transform(cus_num)\n",
    "cus_nor = pd.DataFrame(x_normalized, columns=cus_num.columns)\n",
    "\n",
    "customer2 = pd.concat([cus_nor, onehot_encoded], axis=1)\n",
    "customer2.head()"
   ]
  },
  {
   "cell_type": "code",
   "execution_count": null,
   "id": "c65b93bc",
   "metadata": {},
   "outputs": [],
   "source": [
    "y = customer['Total Claim Amount']\n",
    "X = customer2\n",
    "X_train, X_test, y_train, y_test = train_test_split(X, y, test_size=0.1)\n",
    "lm = linear_model.LinearRegression()\n",
    "lm.fit(X_train,y_train)\n",
    "predictions = lm.predict(X_train)\n",
    "r2_score(y_train, predictions)"
   ]
  },
  {
   "cell_type": "code",
   "execution_count": null,
   "id": "d873981f",
   "metadata": {},
   "outputs": [],
   "source": [
    "predictions_test = lm.predict(X_test)\n",
    "r2_score(y_test, predictions_test)"
   ]
  },
  {
   "cell_type": "code",
   "execution_count": null,
   "id": "87405f38",
   "metadata": {},
   "outputs": [],
   "source": []
  }
 ],
 "metadata": {
  "kernelspec": {
   "display_name": "Python 3 (ipykernel)",
   "language": "python",
   "name": "python3"
  },
  "language_info": {
   "codemirror_mode": {
    "name": "ipython",
    "version": 3
   },
   "file_extension": ".py",
   "mimetype": "text/x-python",
   "name": "python",
   "nbconvert_exporter": "python",
   "pygments_lexer": "ipython3",
   "version": "3.10.9"
  }
 },
 "nbformat": 4,
 "nbformat_minor": 5
}
